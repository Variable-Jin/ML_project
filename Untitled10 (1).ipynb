{
  "nbformat": 4,
  "nbformat_minor": 0,
  "metadata": {
    "colab": {
      "provenance": []
    },
    "kernelspec": {
      "name": "python3",
      "display_name": "Python 3"
    },
    "language_info": {
      "name": "python"
    }
  },
  "cells": [
    {
      "cell_type": "markdown",
      "source": [
        "LinearRegression"
      ],
      "metadata": {
        "id": "p4fC5BH9tK4R"
      }
    },
    {
      "cell_type": "code",
      "source": [
        "import numpy as np\n",
        "import pandas as pd\n",
        "import matplotlib.pyplot as plt\n",
        "import seaborn as sns"
      ],
      "metadata": {
        "id": "2gvK2yPAtMhj"
      },
      "execution_count": 1,
      "outputs": []
    },
    {
      "cell_type": "code",
      "source": [
        "df1= pd.read_csv(\"/content/생필품 농수축산물 가격 정보(2019년).csv\", encoding='cp949')\n",
        "df2= pd.read_csv(\"/content/생필품 농수축산물 가격 정보(2020년).csv\", encoding='cp949')\n",
        "df3= pd.read_csv(\"/content/생필품 농수축산물 가격 정보(2021년).csv\", encoding='cp949')"
      ],
      "metadata": {
        "id": "HcP2ilfzuGQQ"
      },
      "execution_count": 2,
      "outputs": []
    },
    {
      "cell_type": "code",
      "source": [
        "df_1= pd.merge(df1, df2, how = 'outer')\n",
        "df_2 = pd.merge(df_1, df3,how = 'outer')"
      ],
      "metadata": {
        "id": "96cqI2Omv4c1"
      },
      "execution_count": 3,
      "outputs": []
    },
    {
      "cell_type": "code",
      "source": [
        "df_2.describe()"
      ],
      "metadata": {
        "colab": {
          "base_uri": "https://localhost:8080/",
          "height": 300
        },
        "id": "H52fpYrhwLLY",
        "outputId": "f6a48325-4c00-4bcd-e711-055470bab4ca"
      },
      "execution_count": 4,
      "outputs": [
        {
          "output_type": "execute_result",
          "data": {
            "text/plain": [
              "               일련번호       시장/마트 번호          품목 번호         가격(원)  \\\n",
              "count  3.208430e+05  320843.000000  320843.000000  3.208430e+05   \n",
              "mean   1.556445e+06     103.142671     212.581568  1.346572e+04   \n",
              "std    9.823942e+04      68.695718     109.217373  4.227410e+06   \n",
              "min    1.357080e+06       1.000000      13.000000  0.000000e+00   \n",
              "25%    1.473784e+06      44.000000     119.000000  2.000000e+03   \n",
              "50%    1.560484e+06      92.000000     265.000000  3.450000e+03   \n",
              "75%    1.641340e+06     146.000000     307.000000  5.950000e+03   \n",
              "max    1.724779e+06     229.000000     324.000000  2.394024e+09   \n",
              "\n",
              "       시장유형 구분(시장/마트) 코드         자치구 코드  \n",
              "count      320843.000000  320843.000000  \n",
              "mean            1.510072  415991.341560  \n",
              "std             0.499899  185545.761174  \n",
              "min             1.000000  110000.000000  \n",
              "25%             1.000000  260000.000000  \n",
              "50%             2.000000  410000.000000  \n",
              "75%             2.000000  560000.000000  \n",
              "max             2.000000  740000.000000  "
            ],
            "text/html": [
              "\n",
              "  <div id=\"df-0a4932b1-a0e1-49d2-9881-ab14caabe515\">\n",
              "    <div class=\"colab-df-container\">\n",
              "      <div>\n",
              "<style scoped>\n",
              "    .dataframe tbody tr th:only-of-type {\n",
              "        vertical-align: middle;\n",
              "    }\n",
              "\n",
              "    .dataframe tbody tr th {\n",
              "        vertical-align: top;\n",
              "    }\n",
              "\n",
              "    .dataframe thead th {\n",
              "        text-align: right;\n",
              "    }\n",
              "</style>\n",
              "<table border=\"1\" class=\"dataframe\">\n",
              "  <thead>\n",
              "    <tr style=\"text-align: right;\">\n",
              "      <th></th>\n",
              "      <th>일련번호</th>\n",
              "      <th>시장/마트 번호</th>\n",
              "      <th>품목 번호</th>\n",
              "      <th>가격(원)</th>\n",
              "      <th>시장유형 구분(시장/마트) 코드</th>\n",
              "      <th>자치구 코드</th>\n",
              "    </tr>\n",
              "  </thead>\n",
              "  <tbody>\n",
              "    <tr>\n",
              "      <th>count</th>\n",
              "      <td>3.208430e+05</td>\n",
              "      <td>320843.000000</td>\n",
              "      <td>320843.000000</td>\n",
              "      <td>3.208430e+05</td>\n",
              "      <td>320843.000000</td>\n",
              "      <td>320843.000000</td>\n",
              "    </tr>\n",
              "    <tr>\n",
              "      <th>mean</th>\n",
              "      <td>1.556445e+06</td>\n",
              "      <td>103.142671</td>\n",
              "      <td>212.581568</td>\n",
              "      <td>1.346572e+04</td>\n",
              "      <td>1.510072</td>\n",
              "      <td>415991.341560</td>\n",
              "    </tr>\n",
              "    <tr>\n",
              "      <th>std</th>\n",
              "      <td>9.823942e+04</td>\n",
              "      <td>68.695718</td>\n",
              "      <td>109.217373</td>\n",
              "      <td>4.227410e+06</td>\n",
              "      <td>0.499899</td>\n",
              "      <td>185545.761174</td>\n",
              "    </tr>\n",
              "    <tr>\n",
              "      <th>min</th>\n",
              "      <td>1.357080e+06</td>\n",
              "      <td>1.000000</td>\n",
              "      <td>13.000000</td>\n",
              "      <td>0.000000e+00</td>\n",
              "      <td>1.000000</td>\n",
              "      <td>110000.000000</td>\n",
              "    </tr>\n",
              "    <tr>\n",
              "      <th>25%</th>\n",
              "      <td>1.473784e+06</td>\n",
              "      <td>44.000000</td>\n",
              "      <td>119.000000</td>\n",
              "      <td>2.000000e+03</td>\n",
              "      <td>1.000000</td>\n",
              "      <td>260000.000000</td>\n",
              "    </tr>\n",
              "    <tr>\n",
              "      <th>50%</th>\n",
              "      <td>1.560484e+06</td>\n",
              "      <td>92.000000</td>\n",
              "      <td>265.000000</td>\n",
              "      <td>3.450000e+03</td>\n",
              "      <td>2.000000</td>\n",
              "      <td>410000.000000</td>\n",
              "    </tr>\n",
              "    <tr>\n",
              "      <th>75%</th>\n",
              "      <td>1.641340e+06</td>\n",
              "      <td>146.000000</td>\n",
              "      <td>307.000000</td>\n",
              "      <td>5.950000e+03</td>\n",
              "      <td>2.000000</td>\n",
              "      <td>560000.000000</td>\n",
              "    </tr>\n",
              "    <tr>\n",
              "      <th>max</th>\n",
              "      <td>1.724779e+06</td>\n",
              "      <td>229.000000</td>\n",
              "      <td>324.000000</td>\n",
              "      <td>2.394024e+09</td>\n",
              "      <td>2.000000</td>\n",
              "      <td>740000.000000</td>\n",
              "    </tr>\n",
              "  </tbody>\n",
              "</table>\n",
              "</div>\n",
              "      <button class=\"colab-df-convert\" onclick=\"convertToInteractive('df-0a4932b1-a0e1-49d2-9881-ab14caabe515')\"\n",
              "              title=\"Convert this dataframe to an interactive table.\"\n",
              "              style=\"display:none;\">\n",
              "        \n",
              "  <svg xmlns=\"http://www.w3.org/2000/svg\" height=\"24px\"viewBox=\"0 0 24 24\"\n",
              "       width=\"24px\">\n",
              "    <path d=\"M0 0h24v24H0V0z\" fill=\"none\"/>\n",
              "    <path d=\"M18.56 5.44l.94 2.06.94-2.06 2.06-.94-2.06-.94-.94-2.06-.94 2.06-2.06.94zm-11 1L8.5 8.5l.94-2.06 2.06-.94-2.06-.94L8.5 2.5l-.94 2.06-2.06.94zm10 10l.94 2.06.94-2.06 2.06-.94-2.06-.94-.94-2.06-.94 2.06-2.06.94z\"/><path d=\"M17.41 7.96l-1.37-1.37c-.4-.4-.92-.59-1.43-.59-.52 0-1.04.2-1.43.59L10.3 9.45l-7.72 7.72c-.78.78-.78 2.05 0 2.83L4 21.41c.39.39.9.59 1.41.59.51 0 1.02-.2 1.41-.59l7.78-7.78 2.81-2.81c.8-.78.8-2.07 0-2.86zM5.41 20L4 18.59l7.72-7.72 1.47 1.35L5.41 20z\"/>\n",
              "  </svg>\n",
              "      </button>\n",
              "      \n",
              "  <style>\n",
              "    .colab-df-container {\n",
              "      display:flex;\n",
              "      flex-wrap:wrap;\n",
              "      gap: 12px;\n",
              "    }\n",
              "\n",
              "    .colab-df-convert {\n",
              "      background-color: #E8F0FE;\n",
              "      border: none;\n",
              "      border-radius: 50%;\n",
              "      cursor: pointer;\n",
              "      display: none;\n",
              "      fill: #1967D2;\n",
              "      height: 32px;\n",
              "      padding: 0 0 0 0;\n",
              "      width: 32px;\n",
              "    }\n",
              "\n",
              "    .colab-df-convert:hover {\n",
              "      background-color: #E2EBFA;\n",
              "      box-shadow: 0px 1px 2px rgba(60, 64, 67, 0.3), 0px 1px 3px 1px rgba(60, 64, 67, 0.15);\n",
              "      fill: #174EA6;\n",
              "    }\n",
              "\n",
              "    [theme=dark] .colab-df-convert {\n",
              "      background-color: #3B4455;\n",
              "      fill: #D2E3FC;\n",
              "    }\n",
              "\n",
              "    [theme=dark] .colab-df-convert:hover {\n",
              "      background-color: #434B5C;\n",
              "      box-shadow: 0px 1px 3px 1px rgba(0, 0, 0, 0.15);\n",
              "      filter: drop-shadow(0px 1px 2px rgba(0, 0, 0, 0.3));\n",
              "      fill: #FFFFFF;\n",
              "    }\n",
              "  </style>\n",
              "\n",
              "      <script>\n",
              "        const buttonEl =\n",
              "          document.querySelector('#df-0a4932b1-a0e1-49d2-9881-ab14caabe515 button.colab-df-convert');\n",
              "        buttonEl.style.display =\n",
              "          google.colab.kernel.accessAllowed ? 'block' : 'none';\n",
              "\n",
              "        async function convertToInteractive(key) {\n",
              "          const element = document.querySelector('#df-0a4932b1-a0e1-49d2-9881-ab14caabe515');\n",
              "          const dataTable =\n",
              "            await google.colab.kernel.invokeFunction('convertToInteractive',\n",
              "                                                     [key], {});\n",
              "          if (!dataTable) return;\n",
              "\n",
              "          const docLinkHtml = 'Like what you see? Visit the ' +\n",
              "            '<a target=\"_blank\" href=https://colab.research.google.com/notebooks/data_table.ipynb>data table notebook</a>'\n",
              "            + ' to learn more about interactive tables.';\n",
              "          element.innerHTML = '';\n",
              "          dataTable['output_type'] = 'display_data';\n",
              "          await google.colab.output.renderOutput(dataTable, element);\n",
              "          const docLink = document.createElement('div');\n",
              "          docLink.innerHTML = docLinkHtml;\n",
              "          element.appendChild(docLink);\n",
              "        }\n",
              "      </script>\n",
              "    </div>\n",
              "  </div>\n",
              "  "
            ]
          },
          "metadata": {},
          "execution_count": 4
        }
      ]
    },
    {
      "cell_type": "code",
      "source": [
        "!sudo apt-get install -y fonts-nanum\n",
        "!sudo fc-cache -fv\n",
        "!rm ~/.cache/matplotlib -rf"
      ],
      "metadata": {
        "colab": {
          "base_uri": "https://localhost:8080/"
        },
        "id": "jKnoreKVwNwv",
        "outputId": "1239c8a3-bde0-4fde-ef44-a56aa649ace0"
      },
      "execution_count": 5,
      "outputs": [
        {
          "output_type": "stream",
          "name": "stdout",
          "text": [
            "Reading package lists... Done\n",
            "Building dependency tree       \n",
            "Reading state information... Done\n",
            "fonts-nanum is already the newest version (20170925-1).\n",
            "The following package was automatically installed and is no longer required:\n",
            "  libnvidia-common-460\n",
            "Use 'sudo apt autoremove' to remove it.\n",
            "0 upgraded, 0 newly installed, 0 to remove and 20 not upgraded.\n",
            "/usr/share/fonts: caching, new cache contents: 0 fonts, 1 dirs\n",
            "/usr/share/fonts/truetype: caching, new cache contents: 0 fonts, 3 dirs\n",
            "/usr/share/fonts/truetype/humor-sans: caching, new cache contents: 1 fonts, 0 dirs\n",
            "/usr/share/fonts/truetype/liberation: caching, new cache contents: 16 fonts, 0 dirs\n",
            "/usr/share/fonts/truetype/nanum: caching, new cache contents: 10 fonts, 0 dirs\n",
            "/usr/local/share/fonts: caching, new cache contents: 0 fonts, 0 dirs\n",
            "/root/.local/share/fonts: skipping, no such directory\n",
            "/root/.fonts: skipping, no such directory\n",
            "/var/cache/fontconfig: cleaning cache directory\n",
            "/root/.cache/fontconfig: not cleaning non-existent cache directory\n",
            "/root/.fontconfig: not cleaning non-existent cache directory\n",
            "fc-cache: succeeded\n"
          ]
        }
      ]
    },
    {
      "cell_type": "code",
      "source": [
        "import matplotlib.pyplot as plt\n",
        "plt.rc('font', family='NanumBarunGothic')"
      ],
      "metadata": {
        "id": "0MHeDF12wP5W"
      },
      "execution_count": 6,
      "outputs": []
    },
    {
      "cell_type": "code",
      "source": [
        "plt.figure(figsize=(25, 5))\n",
        "plt.xticks(rotation = -70 )\n",
        "sns.countplot(x=\"품목 이름\", data=df_2)"
      ],
      "metadata": {
        "colab": {
          "base_uri": "https://localhost:8080/",
          "height": 439
        },
        "id": "_gB5R5qLwSc-",
        "outputId": "9c4a1b3d-a7f4-41fc-9ea2-349816b0c6f3"
      },
      "execution_count": 7,
      "outputs": [
        {
          "output_type": "execute_result",
          "data": {
            "text/plain": [
              "<matplotlib.axes._subplots.AxesSubplot at 0x7f46fc1e20d0>"
            ]
          },
          "metadata": {},
          "execution_count": 7
        },
        {
          "output_type": "display_data",
          "data": {
            "text/plain": [
              "<Figure size 1800x360 with 1 Axes>"
            ],
            "image/png": "[encoded data removed]"
          },
          "metadata": {
            "needs_background": "light"
          }
        }
      ]
    },
    {
      "cell_type": "code",
      "source": [
        "df_2.info()"
      ],
      "metadata": {
        "colab": {
          "base_uri": "https://localhost:8080/"
        },
        "id": "3We9OUDHw9lN",
        "outputId": "a3301a4f-8533-48d2-8c0b-d4fae121b982"
      },
      "execution_count": 8,
      "outputs": [
        {
          "output_type": "stream",
          "name": "stdout",
          "text": [
            "<class 'pandas.core.frame.DataFrame'>\n",
            "Int64Index: 320843 entries, 0 to 320842\n",
            "Data columns (total 14 columns):\n",
            " #   Column             Non-Null Count   Dtype \n",
            "---  ------             --------------   ----- \n",
            " 0   일련번호               320843 non-null  int64 \n",
            " 1   시장/마트 번호           320843 non-null  int64 \n",
            " 2   시장/마트 이름           320843 non-null  object\n",
            " 3   품목 번호              320843 non-null  int64 \n",
            " 4   품목 이름              320787 non-null  object\n",
            " 5   실판매규격              320843 non-null  object\n",
            " 6   가격(원)              320843 non-null  int64 \n",
            " 7   년도-월               320843 non-null  object\n",
            " 8   비고                 253682 non-null  object\n",
            " 9   시장유형 구분(시장/마트) 코드  320843 non-null  int64 \n",
            " 10  시장유형 구분(시장/마트) 이름  320843 non-null  object\n",
            " 11  자치구 코드             320843 non-null  int64 \n",
            " 12  자치구 이름             320843 non-null  object\n",
            " 13  점검일자               320843 non-null  object\n",
            "dtypes: int64(6), object(8)\n",
            "memory usage: 44.8+ MB\n"
          ]
        }
      ]
    },
    {
      "cell_type": "code",
      "source": [
        "df_2.value_counts(\"품목 이름\")"
      ],
      "metadata": {
        "colab": {
          "base_uri": "https://localhost:8080/"
        },
        "id": "E8r_mwnBwy-P",
        "outputId": "27d0a2c0-3051-47fb-a3f6-aaafe6e7287f"
      },
      "execution_count": 9,
      "outputs": [
        {
          "output_type": "execute_result",
          "data": {
            "text/plain": [
              "품목 이름\n",
              "달걀(10개)        18337\n",
              "달걀(30개)        18105\n",
              "오이(다다기)        14718\n",
              "쇠고기(한우,불고기)    13807\n",
              "돼지고기(생삼겹살)     12942\n",
              "               ...  \n",
              "배(중품),신고           5\n",
              "쌀                  3\n",
              "삼겹살                2\n",
              "명태(일본산,냉동)         2\n",
              "달걀(중란)             1\n",
              "Length: 86, dtype: int64"
            ]
          },
          "metadata": {},
          "execution_count": 9
        }
      ]
    },
    {
      "cell_type": "code",
      "source": [
        "region_name = df_2['자치구 이름']\n",
        "region_code = df_2['자치구 코드']\n",
        "region = {}\n",
        "for i in range(len(region_code)):\n",
        "  region[region_code[i]] = region_name[i]\n",
        "print(region)"
      ],
      "metadata": {
        "colab": {
          "base_uri": "https://localhost:8080/"
        },
        "id": "yHpcEwynxCxf",
        "outputId": "32dbc45a-607e-4b9c-c792-1e4b6ef36653"
      },
      "execution_count": 10,
      "outputs": [
        {
          "output_type": "stream",
          "name": "stdout",
          "text": [
            "{545000: '금천구', 680000: '강남구', 560000: '영등포구', 740000: '강동구', 410000: '서대문구', 230000: '동대문구', 500000: '강서구', 440000: '마포구', 140000: '중구', 305000: '강북구', 710000: '송파구', 260000: '중랑구', 215000: '광진구', 320000: '도봉구', 590000: '동작구', 170000: '용산구', 470000: '양천구', 290000: '성북구', 650000: '서초구', 530000: '구로구', 620000: '관악구', 350000: '노원구', 110000: '종로구', 200000: '성동구', 380000: '은평구'}\n"
          ]
        }
      ]
    },
    {
      "cell_type": "code",
      "source": [
        "cat_name = df_2['품목 이름']\n",
        "cat_code = df_2['품목 번호']\n",
        "cat = {}\n",
        "for j in range(len(cat_code)):\n",
        "    cat[cat_code[j]] = cat_name[j]\n",
        "print(cat)"
      ],
      "metadata": {
        "colab": {
          "base_uri": "https://localhost:8080/"
        },
        "id": "U0FqkX87xGnF",
        "outputId": "99c9d601-1366-4814-d627-df590b7e1538"
      },
      "execution_count": 11,
      "outputs": [
        {
          "output_type": "stream",
          "name": "stdout",
          "text": [
            "{311: '오이(다다기)', 202: '돼지고기(생삼겹살)', 310: '상추(100g)', 58: '쇠고기(한우,불고기)', 309: '양파(1.5kg망)', 119: '호박(인큐베이터)', 260: '조기(냉동,수입산)', 283: '닭고기(육계)', 171: '달걀(10개)', 320: '달걀(30개)', 136: '조기(국산,생물)', 264: '명태(냉동,수입산)', 318: '고등어(30cm,수입산)', 305: '사과(부사, 300g)', 254: '오징어(생물,국산)', 266: '고등어(생물,국산)', 152: '명태(러시아,냉동)', 306: '배(신고, 600g)', 308: '무(1kg)', 307: '배추(2.5~3kg)', 312: '애호박', 144: '조기(국산,냉동)', 268: '고등어(냉동,국산)', 248: '배(신고),중급(대)', 125: '배추(국산)', 26: '배추', 24: '양파', 25: '무', 276: '배(신고)', 303: '조기', 288: '동태', 23: '상추', 256: '오징어(냉동,국산)', 13: '고등어', 27: '배', 257: '오징어(냉동,수입산)', 52: '돼지고기(삼겹살)', 18: '닭고기', 285: '돼지고기', 131: nan, 50: '사과(부사)', 277: '호박', 138: '닭고기(토종닭)', 99: '돼지고기(생삼겹살)', 244: '사과(부사),중급(대)', 269: '고등어(냉동,수입산)', 259: '조기(냉동,국산)', 271: '배추(중간)', 284: '배(중품)', 22: '오이', 304: '고등어', 314: '냉동참조기(20cm,국산)', 265: '명태(생물,수입산)', 253: '오징어', 302: '명태', 17: '달걀', 278: '쇠고기', 282: '무(세척무)', 175: '배추(중간)', 274: '무(세척무, 중)', 261: '조기(생물,수입산)', 316: '고등어(30cm,국산)', 118: '호박(인큐베이터),중간', 133: '무(세척무)', 258: '조기(생물,국산)', 275: '닭고기(중간)', 255: '오징어(생물,수입산)', 28: '사과', 135: '조기(중국산,생물)', 272: '양파(작은망)', 315: '명태(45cm,수입산)', 181: '달걀(왕란)', 262: '명태(생물,국산)', 106: '쇠고기(한우2등급)', 267: '고등어(생물,수입산)', 321: '달걀(15개)', 134: '달걀(왕란)', 270: '사과(부사),중급(중)', 82: '쇠고기(육우,불고기)', 263: '명태(냉동,국산)', 279: '사과(중품)', 170: '배(신고),중급(대)', 237: '사과(부사),중급(대)', 51: '배(신고),중급(중)', 54: '오징어(냉동)', 281: '배(중품),신고', 299: '삼겹살', 313: '냉동참조기(20cm,수입)', 184: '명태(일본산,냉동)', 201: '쇠고기(등심)', 129: '쇠고기(육우1등급)', 324: '쌀', 176: '달걀(중란)'}\n"
          ]
        }
      ]
    },
    {
      "cell_type": "code",
      "source": [
        "market_name = df_2['시장/마트 이름']\n",
        "market_code = df_2['시장/마트 번호']\n",
        "market = {}\n",
        "for k in range(len(market_code)):\n",
        "      market[market_code[k]] = market_name[k]\n",
        "print(market)"
      ],
      "metadata": {
        "colab": {
          "base_uri": "https://localhost:8080/"
        },
        "id": "F3iSQdrQxLT4",
        "outputId": "8dc4eef7-50d5-4040-8642-7b4c516d09a3"
      },
      "execution_count": 12,
      "outputs": [
        {
          "output_type": "stream",
          "name": "stdout",
          "text": [
            "{116: '홈플러스 시흥점', 115: '남문시장', 114: '현대시장', 222: '홈플러스 독산점', 44: '이마트 역삼점', 130: '롯데백화점 영등포점', 154: '홈플러스 강동점', 31: '인왕시장', 88: '롯데백화점 청량리점', 45: '롯데백화점 강남점', 213: '화곡본동시장', 123: '홈플러스 월드컵점', 8: '롯데마트 서울역점', 66: '수유재래시장', 153: '이마트 명일점', 147: '롯데백화점 잠실점', 91: '동원시장', 40: '홈플러스 등촌점', 80: '이마트 자양점', 27: '이마트 창동점', 127: '남성시장', 10: '용문시장', 102: '목3동시장', 214: '이마트 목동점', 90: '우림시장', 13: '돈암제일시장', 217: '방림시장', 120: '망원시장', 151: '암사종합시장', 28: '홈플러스 방학점', 22: '이마트 여의도점', 19: '대림중앙시장', 56: '롯데백화점', 218: '신세계백화점 강남점', 108: '남구로시장', 140: '하나로클럽 양재점', 133: '원당종합시장', 25: '방학동도깨비시장', 33: '현대백화점 신촌점', 11: '남대문시장', 103: '신영시장', 96: '공릉동 도깨비시장', 82: '롯데마트 강변점', 32: '영천시장', 148: '홈플러스 잠실점', 1: '통인시장', 26: '신창시장', 2: '신세계백화점', 129: '태평백화점', 206: '하나로클럽 미아점', 15: '이마트 미아점', 136: '세이브 마트', 94: '홈플러스 면목점', 60: '이마트 청계점', 20: '영등포전통시장', 216: '도곡시장', 145: '마천중앙시장', 134: '신원시장(신림1동)', 21: '홈플러스 영등포점', 207: '관악신사시장(신림4동)', 215: '청담삼익시장', 74: '이마트 왕십리점', 38: '송화시장', 200: '뉴코아아울렛 강남점', 14: '장위골목시장', 6: '이마트 용산점', 210: '상계중앙시장', 62: '후암시장', 16: '현대백화점 미아점', 110: '이마트 신도림점', 212: '노룬산골목시장', 135: '롯데백화점 관악점', 84: '청량리종합시장', 51: 'NC백화점 불광점', 146: '방이시장', 72: '금남시장', 63: '농협 하나로마트 용산점', 78: '자양골목시장', 199: '서울중앙시장', 121: '마포농수산물시장', 42: '이마트 가양점', 85: '경동시장', 92: '이마트 상봉점', 68: '롯데백화점 미아점', 49: '대림시장', 205: '둔촌역전통시장', 100: '홈플러스 중계점', 75: '이마트 성수점', 86: '홈플러스 동대문점', 55: '광장시장', 109: '고척근린시장', 98: '롯데백화점 노원점', 53: '이마트 은평점', 73: '뚝도시장', 224: '농협하나로마트 신촌점', 221: '숭인시장', 223: '홈플러스 목동점', 226: '롯데마트 구로점', 220: '롯데슈퍼', 219: '대조시장', 112: '애경백화점', 225: '이마트 에브리데이 창동점', 202: '구로시장', 228: '방배종합시장', 227: 'NC백화점 신구로점', 229: '이마트 이수점'}\n"
          ]
        }
      ]
    },
    {
      "cell_type": "code",
      "source": [
        "df_2.drop('자치구 이름',axis=1, inplace = True)\n",
        "df_2.drop('시장/마트 이름',axis=1, inplace = True)\n",
        "df_2.drop('시장유형 구분(시장/마트) 코드',axis=1, inplace = True)\n",
        "df_2.drop('시장유형 구분(시장/마트) 이름',axis=1, inplace = True)\n",
        "df_2.drop('품목 이름',axis=1, inplace = True)"
      ],
      "metadata": {
        "id": "DQXFg25xxOlD"
      },
      "execution_count": 13,
      "outputs": []
    },
    {
      "cell_type": "code",
      "source": [
        "df_2.drop(['비고', '실판매규격', '점검일자'], axis=1, inplace=True)"
      ],
      "metadata": {
        "id": "uyq91gyOxXjX"
      },
      "execution_count": 14,
      "outputs": []
    },
    {
      "cell_type": "code",
      "source": [
        "df_2.drop('일련번호', axis=1, inplace = True)"
      ],
      "metadata": {
        "id": "lHs9Q1HKxeoe"
      },
      "execution_count": 15,
      "outputs": []
    },
    {
      "cell_type": "code",
      "source": [
        "df_2.loc[df_2['가격(원)'] == 0]"
      ],
      "metadata": {
        "colab": {
          "base_uri": "https://localhost:8080/",
          "height": 424
        },
        "id": "GJ6VZ4phxi3z",
        "outputId": "192c6adc-5d93-4ab4-8373-5e38b5fffe81"
      },
      "execution_count": 16,
      "outputs": [
        {
          "output_type": "execute_result",
          "data": {
            "text/plain": [
              "        시장/마트 번호  품목 번호  가격(원)     년도-월  자치구 코드\n",
              "626          154    264      0  2019-12  740000\n",
              "628          154    144      0  2019-12  740000\n",
              "640          154    264      0  2019-12  740000\n",
              "672          154    144      0  2019-12  740000\n",
              "710           45    307      0  2019-12  680000\n",
              "...          ...    ...    ...      ...     ...\n",
              "320726        45     26      0  2021-12  680000\n",
              "320738        45    302      0  2021-12  680000\n",
              "320760       147     26      0  2021-12  710000\n",
              "320771       147    303      0  2021-12  710000\n",
              "320772       147    302      0  2021-12  710000\n",
              "\n",
              "[3694 rows x 5 columns]"
            ],
            "text/html": [
              "\n",
              "  <div id=\"df-2067cd54-6801-4a72-853e-b357504d126d\">\n",
              "    <div class=\"colab-df-container\">\n",
              "      <div>\n",
              "<style scoped>\n",
              "    .dataframe tbody tr th:only-of-type {\n",
              "        vertical-align: middle;\n",
              "    }\n",
              "\n",
              "    .dataframe tbody tr th {\n",
              "        vertical-align: top;\n",
              "    }\n",
              "\n",
              "    .dataframe thead th {\n",
              "        text-align: right;\n",
              "    }\n",
              "</style>\n",
              "<table border=\"1\" class=\"dataframe\">\n",
              "  <thead>\n",
              "    <tr style=\"text-align: right;\">\n",
              "      <th></th>\n",
              "      <th>시장/마트 번호</th>\n",
              "      <th>품목 번호</th>\n",
              "      <th>가격(원)</th>\n",
              "      <th>년도-월</th>\n",
              "      <th>자치구 코드</th>\n",
              "    </tr>\n",
              "  </thead>\n",
              "  <tbody>\n",
              "    <tr>\n",
              "      <th>626</th>\n",
              "      <td>154</td>\n",
              "      <td>264</td>\n",
              "      <td>0</td>\n",
              "      <td>2019-12</td>\n",
              "      <td>740000</td>\n",
              "    </tr>\n",
              "    <tr>\n",
              "      <th>628</th>\n",
              "      <td>154</td>\n",
              "      <td>144</td>\n",
              "      <td>0</td>\n",
              "      <td>2019-12</td>\n",
              "      <td>740000</td>\n",
              "    </tr>\n",
              "    <tr>\n",
              "      <th>640</th>\n",
              "      <td>154</td>\n",
              "      <td>264</td>\n",
              "      <td>0</td>\n",
              "      <td>2019-12</td>\n",
              "      <td>740000</td>\n",
              "    </tr>\n",
              "    <tr>\n",
              "      <th>672</th>\n",
              "      <td>154</td>\n",
              "      <td>144</td>\n",
              "      <td>0</td>\n",
              "      <td>2019-12</td>\n",
              "      <td>740000</td>\n",
              "    </tr>\n",
              "    <tr>\n",
              "      <th>710</th>\n",
              "      <td>45</td>\n",
              "      <td>307</td>\n",
              "      <td>0</td>\n",
              "      <td>2019-12</td>\n",
              "      <td>680000</td>\n",
              "    </tr>\n",
              "    <tr>\n",
              "      <th>...</th>\n",
              "      <td>...</td>\n",
              "      <td>...</td>\n",
              "      <td>...</td>\n",
              "      <td>...</td>\n",
              "      <td>...</td>\n",
              "    </tr>\n",
              "    <tr>\n",
              "      <th>320726</th>\n",
              "      <td>45</td>\n",
              "      <td>26</td>\n",
              "      <td>0</td>\n",
              "      <td>2021-12</td>\n",
              "      <td>680000</td>\n",
              "    </tr>\n",
              "    <tr>\n",
              "      <th>320738</th>\n",
              "      <td>45</td>\n",
              "      <td>302</td>\n",
              "      <td>0</td>\n",
              "      <td>2021-12</td>\n",
              "      <td>680000</td>\n",
              "    </tr>\n",
              "    <tr>\n",
              "      <th>320760</th>\n",
              "      <td>147</td>\n",
              "      <td>26</td>\n",
              "      <td>0</td>\n",
              "      <td>2021-12</td>\n",
              "      <td>710000</td>\n",
              "    </tr>\n",
              "    <tr>\n",
              "      <th>320771</th>\n",
              "      <td>147</td>\n",
              "      <td>303</td>\n",
              "      <td>0</td>\n",
              "      <td>2021-12</td>\n",
              "      <td>710000</td>\n",
              "    </tr>\n",
              "    <tr>\n",
              "      <th>320772</th>\n",
              "      <td>147</td>\n",
              "      <td>302</td>\n",
              "      <td>0</td>\n",
              "      <td>2021-12</td>\n",
              "      <td>710000</td>\n",
              "    </tr>\n",
              "  </tbody>\n",
              "</table>\n",
              "<p>3694 rows × 5 columns</p>\n",
              "</div>\n",
              "      <button class=\"colab-df-convert\" onclick=\"convertToInteractive('df-2067cd54-6801-4a72-853e-b357504d126d')\"\n",
              "              title=\"Convert this dataframe to an interactive table.\"\n",
              "              style=\"display:none;\">\n",
              "        \n",
              "  <svg xmlns=\"http://www.w3.org/2000/svg\" height=\"24px\"viewBox=\"0 0 24 24\"\n",
              "       width=\"24px\">\n",
              "    <path d=\"M0 0h24v24H0V0z\" fill=\"none\"/>\n",
              "    <path d=\"M18.56 5.44l.94 2.06.94-2.06 2.06-.94-2.06-.94-.94-2.06-.94 2.06-2.06.94zm-11 1L8.5 8.5l.94-2.06 2.06-.94-2.06-.94L8.5 2.5l-.94 2.06-2.06.94zm10 10l.94 2.06.94-2.06 2.06-.94-2.06-.94-.94-2.06-.94 2.06-2.06.94z\"/><path d=\"M17.41 7.96l-1.37-1.37c-.4-.4-.92-.59-1.43-.59-.52 0-1.04.2-1.43.59L10.3 9.45l-7.72 7.72c-.78.78-.78 2.05 0 2.83L4 21.41c.39.39.9.59 1.41.59.51 0 1.02-.2 1.41-.59l7.78-7.78 2.81-2.81c.8-.78.8-2.07 0-2.86zM5.41 20L4 18.59l7.72-7.72 1.47 1.35L5.41 20z\"/>\n",
              "  </svg>\n",
              "      </button>\n",
              "      \n",
              "  <style>\n",
              "    .colab-df-container {\n",
              "      display:flex;\n",
              "      flex-wrap:wrap;\n",
              "      gap: 12px;\n",
              "    }\n",
              "\n",
              "    .colab-df-convert {\n",
              "      background-color: #E8F0FE;\n",
              "      border: none;\n",
              "      border-radius: 50%;\n",
              "      cursor: pointer;\n",
              "      display: none;\n",
              "      fill: #1967D2;\n",
              "      height: 32px;\n",
              "      padding: 0 0 0 0;\n",
              "      width: 32px;\n",
              "    }\n",
              "\n",
              "    .colab-df-convert:hover {\n",
              "      background-color: #E2EBFA;\n",
              "      box-shadow: 0px 1px 2px rgba(60, 64, 67, 0.3), 0px 1px 3px 1px rgba(60, 64, 67, 0.15);\n",
              "      fill: #174EA6;\n",
              "    }\n",
              "\n",
              "    [theme=dark] .colab-df-convert {\n",
              "      background-color: #3B4455;\n",
              "      fill: #D2E3FC;\n",
              "    }\n",
              "\n",
              "    [theme=dark] .colab-df-convert:hover {\n",
              "      background-color: #434B5C;\n",
              "      box-shadow: 0px 1px 3px 1px rgba(0, 0, 0, 0.15);\n",
              "      filter: drop-shadow(0px 1px 2px rgba(0, 0, 0, 0.3));\n",
              "      fill: #FFFFFF;\n",
              "    }\n",
              "  </style>\n",
              "\n",
              "      <script>\n",
              "        const buttonEl =\n",
              "          document.querySelector('#df-2067cd54-6801-4a72-853e-b357504d126d button.colab-df-convert');\n",
              "        buttonEl.style.display =\n",
              "          google.colab.kernel.accessAllowed ? 'block' : 'none';\n",
              "\n",
              "        async function convertToInteractive(key) {\n",
              "          const element = document.querySelector('#df-2067cd54-6801-4a72-853e-b357504d126d');\n",
              "          const dataTable =\n",
              "            await google.colab.kernel.invokeFunction('convertToInteractive',\n",
              "                                                     [key], {});\n",
              "          if (!dataTable) return;\n",
              "\n",
              "          const docLinkHtml = 'Like what you see? Visit the ' +\n",
              "            '<a target=\"_blank\" href=https://colab.research.google.com/notebooks/data_table.ipynb>data table notebook</a>'\n",
              "            + ' to learn more about interactive tables.';\n",
              "          element.innerHTML = '';\n",
              "          dataTable['output_type'] = 'display_data';\n",
              "          await google.colab.output.renderOutput(dataTable, element);\n",
              "          const docLink = document.createElement('div');\n",
              "          docLink.innerHTML = docLinkHtml;\n",
              "          element.appendChild(docLink);\n",
              "        }\n",
              "      </script>\n",
              "    </div>\n",
              "  </div>\n",
              "  "
            ]
          },
          "metadata": {},
          "execution_count": 16
        }
      ]
    },
    {
      "cell_type": "code",
      "source": [
        "df_2"
      ],
      "metadata": {
        "colab": {
          "base_uri": "https://localhost:8080/",
          "height": 424
        },
        "id": "8A_3pQ9Dxk20",
        "outputId": "d7e74d30-d6a3-4097-a52b-7be2ec815951"
      },
      "execution_count": 17,
      "outputs": [
        {
          "output_type": "execute_result",
          "data": {
            "text/plain": [
              "        시장/마트 번호  품목 번호  가격(원)     년도-월  자치구 코드\n",
              "0            116    311   1190  2019-12  545000\n",
              "1            115    202  12500  2019-12  545000\n",
              "2            115    310    800  2019-12  545000\n",
              "3            115     58  23000  2019-12  545000\n",
              "4            115    309   2500  2019-12  545000\n",
              "...          ...    ...    ...      ...     ...\n",
              "320838       154    320   6490  2021-12  740000\n",
              "320839       154    144   1190  2021-12  740000\n",
              "320840       154    264   3490  2021-12  740000\n",
              "320841       154    256   4980  2021-12  740000\n",
              "320842       154    266   3990  2021-12  740000\n",
              "\n",
              "[320843 rows x 5 columns]"
            ],
            "text/html": [
              "\n",
              "  <div id=\"df-b94860ed-0535-4080-978e-acc87659dd30\">\n",
              "    <div class=\"colab-df-container\">\n",
              "      <div>\n",
              "<style scoped>\n",
              "    .dataframe tbody tr th:only-of-type {\n",
              "        vertical-align: middle;\n",
              "    }\n",
              "\n",
              "    .dataframe tbody tr th {\n",
              "        vertical-align: top;\n",
              "    }\n",
              "\n",
              "    .dataframe thead th {\n",
              "        text-align: right;\n",
              "    }\n",
              "</style>\n",
              "<table border=\"1\" class=\"dataframe\">\n",
              "  <thead>\n",
              "    <tr style=\"text-align: right;\">\n",
              "      <th></th>\n",
              "      <th>시장/마트 번호</th>\n",
              "      <th>품목 번호</th>\n",
              "      <th>가격(원)</th>\n",
              "      <th>년도-월</th>\n",
              "      <th>자치구 코드</th>\n",
              "    </tr>\n",
              "  </thead>\n",
              "  <tbody>\n",
              "    <tr>\n",
              "      <th>0</th>\n",
              "      <td>116</td>\n",
              "      <td>311</td>\n",
              "      <td>1190</td>\n",
              "      <td>2019-12</td>\n",
              "      <td>545000</td>\n",
              "    </tr>\n",
              "    <tr>\n",
              "      <th>1</th>\n",
              "      <td>115</td>\n",
              "      <td>202</td>\n",
              "      <td>12500</td>\n",
              "      <td>2019-12</td>\n",
              "      <td>545000</td>\n",
              "    </tr>\n",
              "    <tr>\n",
              "      <th>2</th>\n",
              "      <td>115</td>\n",
              "      <td>310</td>\n",
              "      <td>800</td>\n",
              "      <td>2019-12</td>\n",
              "      <td>545000</td>\n",
              "    </tr>\n",
              "    <tr>\n",
              "      <th>3</th>\n",
              "      <td>115</td>\n",
              "      <td>58</td>\n",
              "      <td>23000</td>\n",
              "      <td>2019-12</td>\n",
              "      <td>545000</td>\n",
              "    </tr>\n",
              "    <tr>\n",
              "      <th>4</th>\n",
              "      <td>115</td>\n",
              "      <td>309</td>\n",
              "      <td>2500</td>\n",
              "      <td>2019-12</td>\n",
              "      <td>545000</td>\n",
              "    </tr>\n",
              "    <tr>\n",
              "      <th>...</th>\n",
              "      <td>...</td>\n",
              "      <td>...</td>\n",
              "      <td>...</td>\n",
              "      <td>...</td>\n",
              "      <td>...</td>\n",
              "    </tr>\n",
              "    <tr>\n",
              "      <th>320838</th>\n",
              "      <td>154</td>\n",
              "      <td>320</td>\n",
              "      <td>6490</td>\n",
              "      <td>2021-12</td>\n",
              "      <td>740000</td>\n",
              "    </tr>\n",
              "    <tr>\n",
              "      <th>320839</th>\n",
              "      <td>154</td>\n",
              "      <td>144</td>\n",
              "      <td>1190</td>\n",
              "      <td>2021-12</td>\n",
              "      <td>740000</td>\n",
              "    </tr>\n",
              "    <tr>\n",
              "      <th>320840</th>\n",
              "      <td>154</td>\n",
              "      <td>264</td>\n",
              "      <td>3490</td>\n",
              "      <td>2021-12</td>\n",
              "      <td>740000</td>\n",
              "    </tr>\n",
              "    <tr>\n",
              "      <th>320841</th>\n",
              "      <td>154</td>\n",
              "      <td>256</td>\n",
              "      <td>4980</td>\n",
              "      <td>2021-12</td>\n",
              "      <td>740000</td>\n",
              "    </tr>\n",
              "    <tr>\n",
              "      <th>320842</th>\n",
              "      <td>154</td>\n",
              "      <td>266</td>\n",
              "      <td>3990</td>\n",
              "      <td>2021-12</td>\n",
              "      <td>740000</td>\n",
              "    </tr>\n",
              "  </tbody>\n",
              "</table>\n",
              "<p>320843 rows × 5 columns</p>\n",
              "</div>\n",
              "      <button class=\"colab-df-convert\" onclick=\"convertToInteractive('df-b94860ed-0535-4080-978e-acc87659dd30')\"\n",
              "              title=\"Convert this dataframe to an interactive table.\"\n",
              "              style=\"display:none;\">\n",
              "        \n",
              "  <svg xmlns=\"http://www.w3.org/2000/svg\" height=\"24px\"viewBox=\"0 0 24 24\"\n",
              "       width=\"24px\">\n",
              "    <path d=\"M0 0h24v24H0V0z\" fill=\"none\"/>\n",
              "    <path d=\"M18.56 5.44l.94 2.06.94-2.06 2.06-.94-2.06-.94-.94-2.06-.94 2.06-2.06.94zm-11 1L8.5 8.5l.94-2.06 2.06-.94-2.06-.94L8.5 2.5l-.94 2.06-2.06.94zm10 10l.94 2.06.94-2.06 2.06-.94-2.06-.94-.94-2.06-.94 2.06-2.06.94z\"/><path d=\"M17.41 7.96l-1.37-1.37c-.4-.4-.92-.59-1.43-.59-.52 0-1.04.2-1.43.59L10.3 9.45l-7.72 7.72c-.78.78-.78 2.05 0 2.83L4 21.41c.39.39.9.59 1.41.59.51 0 1.02-.2 1.41-.59l7.78-7.78 2.81-2.81c.8-.78.8-2.07 0-2.86zM5.41 20L4 18.59l7.72-7.72 1.47 1.35L5.41 20z\"/>\n",
              "  </svg>\n",
              "      </button>\n",
              "      \n",
              "  <style>\n",
              "    .colab-df-container {\n",
              "      display:flex;\n",
              "      flex-wrap:wrap;\n",
              "      gap: 12px;\n",
              "    }\n",
              "\n",
              "    .colab-df-convert {\n",
              "      background-color: #E8F0FE;\n",
              "      border: none;\n",
              "      border-radius: 50%;\n",
              "      cursor: pointer;\n",
              "      display: none;\n",
              "      fill: #1967D2;\n",
              "      height: 32px;\n",
              "      padding: 0 0 0 0;\n",
              "      width: 32px;\n",
              "    }\n",
              "\n",
              "    .colab-df-convert:hover {\n",
              "      background-color: #E2EBFA;\n",
              "      box-shadow: 0px 1px 2px rgba(60, 64, 67, 0.3), 0px 1px 3px 1px rgba(60, 64, 67, 0.15);\n",
              "      fill: #174EA6;\n",
              "    }\n",
              "\n",
              "    [theme=dark] .colab-df-convert {\n",
              "      background-color: #3B4455;\n",
              "      fill: #D2E3FC;\n",
              "    }\n",
              "\n",
              "    [theme=dark] .colab-df-convert:hover {\n",
              "      background-color: #434B5C;\n",
              "      box-shadow: 0px 1px 3px 1px rgba(0, 0, 0, 0.15);\n",
              "      filter: drop-shadow(0px 1px 2px rgba(0, 0, 0, 0.3));\n",
              "      fill: #FFFFFF;\n",
              "    }\n",
              "  </style>\n",
              "\n",
              "      <script>\n",
              "        const buttonEl =\n",
              "          document.querySelector('#df-b94860ed-0535-4080-978e-acc87659dd30 button.colab-df-convert');\n",
              "        buttonEl.style.display =\n",
              "          google.colab.kernel.accessAllowed ? 'block' : 'none';\n",
              "\n",
              "        async function convertToInteractive(key) {\n",
              "          const element = document.querySelector('#df-b94860ed-0535-4080-978e-acc87659dd30');\n",
              "          const dataTable =\n",
              "            await google.colab.kernel.invokeFunction('convertToInteractive',\n",
              "                                                     [key], {});\n",
              "          if (!dataTable) return;\n",
              "\n",
              "          const docLinkHtml = 'Like what you see? Visit the ' +\n",
              "            '<a target=\"_blank\" href=https://colab.research.google.com/notebooks/data_table.ipynb>data table notebook</a>'\n",
              "            + ' to learn more about interactive tables.';\n",
              "          element.innerHTML = '';\n",
              "          dataTable['output_type'] = 'display_data';\n",
              "          await google.colab.output.renderOutput(dataTable, element);\n",
              "          const docLink = document.createElement('div');\n",
              "          docLink.innerHTML = docLinkHtml;\n",
              "          element.appendChild(docLink);\n",
              "        }\n",
              "      </script>\n",
              "    </div>\n",
              "  </div>\n",
              "  "
            ]
          },
          "metadata": {},
          "execution_count": 17
        }
      ]
    },
    {
      "cell_type": "code",
      "source": [
        "df_2 = df_2.sort_values(by='가격(원)')\n",
        "df_2 = df_2.iloc[3694:320844,:]\n",
        "print(df_2)"
      ],
      "metadata": {
        "colab": {
          "base_uri": "https://localhost:8080/"
        },
        "id": "ex1jrjloxo7p",
        "outputId": "1c80e791-da8c-489c-caae-207ce3dfd5f0"
      },
      "execution_count": 18,
      "outputs": [
        {
          "output_type": "stream",
          "name": "stdout",
          "text": [
            "        시장/마트 번호  품목 번호       가격(원)     년도-월  자치구 코드\n",
            "25073         21    202           1  2019-11  560000\n",
            "70063        213    119          10  2019-07  500000\n",
            "261572       214    312          90  2021-05  470000\n",
            "243730       102     25         100  2021-02  470000\n",
            "65247        146    310         100  2019-08  710000\n",
            "...          ...    ...         ...      ...     ...\n",
            "148594        10    256      310000  2020-10  170000\n",
            "25965         94    306      403890  2019-11  260000\n",
            "139423       223    288    34902990  2020-10  470000\n",
            "127610       214     13    35002980  2020-11  470000\n",
            "286834        56     99  2394023940  2021-08  140000\n",
            "\n",
            "[317149 rows x 5 columns]\n"
          ]
        }
      ]
    },
    {
      "cell_type": "code",
      "source": [
        "df_2 = df_2.iloc[1:317146,:]\n",
        "df_2"
      ],
      "metadata": {
        "colab": {
          "base_uri": "https://localhost:8080/",
          "height": 424
        },
        "id": "bdCETr9-xvJ6",
        "outputId": "cd3c0d4e-8a65-44be-8cc9-8e66d0c89136"
      },
      "execution_count": 19,
      "outputs": [
        {
          "output_type": "execute_result",
          "data": {
            "text/plain": [
              "        시장/마트 번호  품목 번호   가격(원)     년도-월  자치구 코드\n",
              "70063        213    119      10  2019-07  500000\n",
              "261572       214    312      90  2021-05  470000\n",
              "243730       102     25     100  2021-02  470000\n",
              "65247        146    310     100  2019-08  710000\n",
              "87660        114    311     100  2019-06  545000\n",
              "...          ...    ...     ...      ...     ...\n",
              "244208        45     50  210000  2021-02  680000\n",
              "179632        40     58  260520  2020-07  500000\n",
              "92710         63     58  288200  2019-05  170000\n",
              "148594        10    256  310000  2020-10  170000\n",
              "25965         94    306  403890  2019-11  260000\n",
              "\n",
              "[317145 rows x 5 columns]"
            ],
            "text/html": [
              "\n",
              "  <div id=\"df-5fb15bc6-052c-43e8-a4bb-2102fda17949\">\n",
              "    <div class=\"colab-df-container\">\n",
              "      <div>\n",
              "<style scoped>\n",
              "    .dataframe tbody tr th:only-of-type {\n",
              "        vertical-align: middle;\n",
              "    }\n",
              "\n",
              "    .dataframe tbody tr th {\n",
              "        vertical-align: top;\n",
              "    }\n",
              "\n",
              "    .dataframe thead th {\n",
              "        text-align: right;\n",
              "    }\n",
              "</style>\n",
              "<table border=\"1\" class=\"dataframe\">\n",
              "  <thead>\n",
              "    <tr style=\"text-align: right;\">\n",
              "      <th></th>\n",
              "      <th>시장/마트 번호</th>\n",
              "      <th>품목 번호</th>\n",
              "      <th>가격(원)</th>\n",
              "      <th>년도-월</th>\n",
              "      <th>자치구 코드</th>\n",
              "    </tr>\n",
              "  </thead>\n",
              "  <tbody>\n",
              "    <tr>\n",
              "      <th>70063</th>\n",
              "      <td>213</td>\n",
              "      <td>119</td>\n",
              "      <td>10</td>\n",
              "      <td>2019-07</td>\n",
              "      <td>500000</td>\n",
              "    </tr>\n",
              "    <tr>\n",
              "      <th>261572</th>\n",
              "      <td>214</td>\n",
              "      <td>312</td>\n",
              "      <td>90</td>\n",
              "      <td>2021-05</td>\n",
              "      <td>470000</td>\n",
              "    </tr>\n",
              "    <tr>\n",
              "      <th>243730</th>\n",
              "      <td>102</td>\n",
              "      <td>25</td>\n",
              "      <td>100</td>\n",
              "      <td>2021-02</td>\n",
              "      <td>470000</td>\n",
              "    </tr>\n",
              "    <tr>\n",
              "      <th>65247</th>\n",
              "      <td>146</td>\n",
              "      <td>310</td>\n",
              "      <td>100</td>\n",
              "      <td>2019-08</td>\n",
              "      <td>710000</td>\n",
              "    </tr>\n",
              "    <tr>\n",
              "      <th>87660</th>\n",
              "      <td>114</td>\n",
              "      <td>311</td>\n",
              "      <td>100</td>\n",
              "      <td>2019-06</td>\n",
              "      <td>545000</td>\n",
              "    </tr>\n",
              "    <tr>\n",
              "      <th>...</th>\n",
              "      <td>...</td>\n",
              "      <td>...</td>\n",
              "      <td>...</td>\n",
              "      <td>...</td>\n",
              "      <td>...</td>\n",
              "    </tr>\n",
              "    <tr>\n",
              "      <th>244208</th>\n",
              "      <td>45</td>\n",
              "      <td>50</td>\n",
              "      <td>210000</td>\n",
              "      <td>2021-02</td>\n",
              "      <td>680000</td>\n",
              "    </tr>\n",
              "    <tr>\n",
              "      <th>179632</th>\n",
              "      <td>40</td>\n",
              "      <td>58</td>\n",
              "      <td>260520</td>\n",
              "      <td>2020-07</td>\n",
              "      <td>500000</td>\n",
              "    </tr>\n",
              "    <tr>\n",
              "      <th>92710</th>\n",
              "      <td>63</td>\n",
              "      <td>58</td>\n",
              "      <td>288200</td>\n",
              "      <td>2019-05</td>\n",
              "      <td>170000</td>\n",
              "    </tr>\n",
              "    <tr>\n",
              "      <th>148594</th>\n",
              "      <td>10</td>\n",
              "      <td>256</td>\n",
              "      <td>310000</td>\n",
              "      <td>2020-10</td>\n",
              "      <td>170000</td>\n",
              "    </tr>\n",
              "    <tr>\n",
              "      <th>25965</th>\n",
              "      <td>94</td>\n",
              "      <td>306</td>\n",
              "      <td>403890</td>\n",
              "      <td>2019-11</td>\n",
              "      <td>260000</td>\n",
              "    </tr>\n",
              "  </tbody>\n",
              "</table>\n",
              "<p>317145 rows × 5 columns</p>\n",
              "</div>\n",
              "      <button class=\"colab-df-convert\" onclick=\"convertToInteractive('df-5fb15bc6-052c-43e8-a4bb-2102fda17949')\"\n",
              "              title=\"Convert this dataframe to an interactive table.\"\n",
              "              style=\"display:none;\">\n",
              "        \n",
              "  <svg xmlns=\"http://www.w3.org/2000/svg\" height=\"24px\"viewBox=\"0 0 24 24\"\n",
              "       width=\"24px\">\n",
              "    <path d=\"M0 0h24v24H0V0z\" fill=\"none\"/>\n",
              "    <path d=\"M18.56 5.44l.94 2.06.94-2.06 2.06-.94-2.06-.94-.94-2.06-.94 2.06-2.06.94zm-11 1L8.5 8.5l.94-2.06 2.06-.94-2.06-.94L8.5 2.5l-.94 2.06-2.06.94zm10 10l.94 2.06.94-2.06 2.06-.94-2.06-.94-.94-2.06-.94 2.06-2.06.94z\"/><path d=\"M17.41 7.96l-1.37-1.37c-.4-.4-.92-.59-1.43-.59-.52 0-1.04.2-1.43.59L10.3 9.45l-7.72 7.72c-.78.78-.78 2.05 0 2.83L4 21.41c.39.39.9.59 1.41.59.51 0 1.02-.2 1.41-.59l7.78-7.78 2.81-2.81c.8-.78.8-2.07 0-2.86zM5.41 20L4 18.59l7.72-7.72 1.47 1.35L5.41 20z\"/>\n",
              "  </svg>\n",
              "      </button>\n",
              "      \n",
              "  <style>\n",
              "    .colab-df-container {\n",
              "      display:flex;\n",
              "      flex-wrap:wrap;\n",
              "      gap: 12px;\n",
              "    }\n",
              "\n",
              "    .colab-df-convert {\n",
              "      background-color: #E8F0FE;\n",
              "      border: none;\n",
              "      border-radius: 50%;\n",
              "      cursor: pointer;\n",
              "      display: none;\n",
              "      fill: #1967D2;\n",
              "      height: 32px;\n",
              "      padding: 0 0 0 0;\n",
              "      width: 32px;\n",
              "    }\n",
              "\n",
              "    .colab-df-convert:hover {\n",
              "      background-color: #E2EBFA;\n",
              "      box-shadow: 0px 1px 2px rgba(60, 64, 67, 0.3), 0px 1px 3px 1px rgba(60, 64, 67, 0.15);\n",
              "      fill: #174EA6;\n",
              "    }\n",
              "\n",
              "    [theme=dark] .colab-df-convert {\n",
              "      background-color: #3B4455;\n",
              "      fill: #D2E3FC;\n",
              "    }\n",
              "\n",
              "    [theme=dark] .colab-df-convert:hover {\n",
              "      background-color: #434B5C;\n",
              "      box-shadow: 0px 1px 3px 1px rgba(0, 0, 0, 0.15);\n",
              "      filter: drop-shadow(0px 1px 2px rgba(0, 0, 0, 0.3));\n",
              "      fill: #FFFFFF;\n",
              "    }\n",
              "  </style>\n",
              "\n",
              "      <script>\n",
              "        const buttonEl =\n",
              "          document.querySelector('#df-5fb15bc6-052c-43e8-a4bb-2102fda17949 button.colab-df-convert');\n",
              "        buttonEl.style.display =\n",
              "          google.colab.kernel.accessAllowed ? 'block' : 'none';\n",
              "\n",
              "        async function convertToInteractive(key) {\n",
              "          const element = document.querySelector('#df-5fb15bc6-052c-43e8-a4bb-2102fda17949');\n",
              "          const dataTable =\n",
              "            await google.colab.kernel.invokeFunction('convertToInteractive',\n",
              "                                                     [key], {});\n",
              "          if (!dataTable) return;\n",
              "\n",
              "          const docLinkHtml = 'Like what you see? Visit the ' +\n",
              "            '<a target=\"_blank\" href=https://colab.research.google.com/notebooks/data_table.ipynb>data table notebook</a>'\n",
              "            + ' to learn more about interactive tables.';\n",
              "          element.innerHTML = '';\n",
              "          dataTable['output_type'] = 'display_data';\n",
              "          await google.colab.output.renderOutput(dataTable, element);\n",
              "          const docLink = document.createElement('div');\n",
              "          docLink.innerHTML = docLinkHtml;\n",
              "          element.appendChild(docLink);\n",
              "        }\n",
              "      </script>\n",
              "    </div>\n",
              "  </div>\n",
              "  "
            ]
          },
          "metadata": {},
          "execution_count": 19
        }
      ]
    },
    {
      "cell_type": "code",
      "source": [
        "df_2['년도-월'] = pd.to_datetime(df_2['년도-월'])"
      ],
      "metadata": {
        "id": "wterzze6Cdd8"
      },
      "execution_count": 20,
      "outputs": []
    },
    {
      "cell_type": "code",
      "source": [
        "df_2['년도-월'] = df_2['년도-월'].dt.year"
      ],
      "metadata": {
        "id": "yz95m990CjHE"
      },
      "execution_count": 21,
      "outputs": []
    },
    {
      "cell_type": "markdown",
      "source": [
        "훈련셋 & 시험셋"
      ],
      "metadata": {
        "id": "hEfwOONxCpF1"
      }
    },
    {
      "cell_type": "code",
      "source": [
        "# 독립변수\n",
        "X = df_2.drop('가격(원)', axis=1) # 독립변수들\n",
        "# 종속변수\n",
        "y = df_2['가격(원)'] # 목표변수/타깃변수/종속변수\n",
        "X, y"
      ],
      "metadata": {
        "colab": {
          "base_uri": "https://localhost:8080/"
        },
        "id": "05z5lVODCn6C",
        "outputId": "6d87f28d-5087-4f45-973a-892968f6cf7f"
      },
      "execution_count": 22,
      "outputs": [
        {
          "output_type": "execute_result",
          "data": {
            "text/plain": [
              "(        시장/마트 번호  품목 번호  년도-월  자치구 코드\n",
              " 70063        213    119  2019  500000\n",
              " 261572       214    312  2021  470000\n",
              " 243730       102     25  2021  470000\n",
              " 65247        146    310  2019  710000\n",
              " 87660        114    311  2019  545000\n",
              " ...          ...    ...   ...     ...\n",
              " 244208        45     50  2021  680000\n",
              " 179632        40     58  2020  500000\n",
              " 92710         63     58  2019  170000\n",
              " 148594        10    256  2020  170000\n",
              " 25965         94    306  2019  260000\n",
              " \n",
              " [317145 rows x 4 columns], 70063         10\n",
              " 261572        90\n",
              " 243730       100\n",
              " 65247        100\n",
              " 87660        100\n",
              "            ...  \n",
              " 244208    210000\n",
              " 179632    260520\n",
              " 92710     288200\n",
              " 148594    310000\n",
              " 25965     403890\n",
              " Name: 가격(원), Length: 317145, dtype: int64)"
            ]
          },
          "metadata": {},
          "execution_count": 22
        }
      ]
    },
    {
      "cell_type": "code",
      "source": [
        "from sklearn.model_selection import train_test_split"
      ],
      "metadata": {
        "id": "8Tutekj6DsWG"
      },
      "execution_count": 23,
      "outputs": []
    },
    {
      "cell_type": "code",
      "source": [
        "X_train, X_test, y_train, y_test = train_test_split(X, y, test_size = 0.2, random_state=15)"
      ],
      "metadata": {
        "id": "3XfVG8mGD--f"
      },
      "execution_count": 24,
      "outputs": []
    },
    {
      "cell_type": "code",
      "source": [
        "len(df_2)"
      ],
      "metadata": {
        "colab": {
          "base_uri": "https://localhost:8080/"
        },
        "id": "8IaVKuLtDvu4",
        "outputId": "7034fb00-dec5-4d80-c116-59dafc77792f"
      },
      "execution_count": 25,
      "outputs": [
        {
          "output_type": "execute_result",
          "data": {
            "text/plain": [
              "317145"
            ]
          },
          "metadata": {},
          "execution_count": 25
        }
      ]
    },
    {
      "cell_type": "code",
      "source": [
        "X_train\n",
        "X_test\n",
        "y_train\n",
        "y_test"
      ],
      "metadata": {
        "colab": {
          "base_uri": "https://localhost:8080/"
        },
        "id": "NW-Q2mtUDxuG",
        "outputId": "2721bc95-3415-4cdf-fe01-9abaa2a61bb8"
      },
      "execution_count": 26,
      "outputs": [
        {
          "output_type": "execute_result",
          "data": {
            "text/plain": [
              "96038      1100\n",
              "112561     3600\n",
              "272059    34000\n",
              "305760     8000\n",
              "186311     3000\n",
              "          ...  \n",
              "51997      2327\n",
              "221206     4990\n",
              "138666     5980\n",
              "95627      2500\n",
              "174149     4000\n",
              "Name: 가격(원), Length: 63429, dtype: int64"
            ]
          },
          "metadata": {},
          "execution_count": 26
        }
      ]
    },
    {
      "cell_type": "markdown",
      "source": [
        "모델 학습"
      ],
      "metadata": {
        "id": "ZsCbQZnZEG7x"
      }
    },
    {
      "cell_type": "code",
      "source": [
        "from sklearn.linear_model import LinearRegression"
      ],
      "metadata": {
        "id": "9dwdYkvnD5CS"
      },
      "execution_count": 27,
      "outputs": []
    },
    {
      "cell_type": "code",
      "source": [
        "model = LinearRegression()"
      ],
      "metadata": {
        "id": "t2RXk4x4EJ_f"
      },
      "execution_count": 28,
      "outputs": []
    },
    {
      "cell_type": "code",
      "source": [
        "model.fit(X_train, y_train)"
      ],
      "metadata": {
        "colab": {
          "base_uri": "https://localhost:8080/"
        },
        "id": "byqFHkDDELZZ",
        "outputId": "fe4a713f-715c-41b9-87ab-67e461dd1ad1"
      },
      "execution_count": 29,
      "outputs": [
        {
          "output_type": "execute_result",
          "data": {
            "text/plain": [
              "LinearRegression()"
            ]
          },
          "metadata": {},
          "execution_count": 29
        }
      ]
    },
    {
      "cell_type": "code",
      "source": [
        "pred = model.predict(X_test)\n",
        "pred"
      ],
      "metadata": {
        "colab": {
          "base_uri": "https://localhost:8080/"
        },
        "id": "fJarU96nETUe",
        "outputId": "01e28fad-63c3-4a40-8abe-fcdab6d25c97"
      },
      "execution_count": 30,
      "outputs": [
        {
          "output_type": "execute_result",
          "data": {
            "text/plain": [
              "array([4108.0407904 , 3691.77096751, 8858.30015145, ..., 4032.13885294,\n",
              "       4670.07005406, 9494.56551544])"
            ]
          },
          "metadata": {},
          "execution_count": 30
        }
      ]
    },
    {
      "cell_type": "markdown",
      "source": [
        "모델 평가"
      ],
      "metadata": {
        "id": "3eNiXG75EWcp"
      }
    },
    {
      "cell_type": "code",
      "source": [
        "comparison = pd.DataFrame({\n",
        "    'actual': y_test, # 실제값\n",
        "    'pred': pred\n",
        "}) \n",
        "comparison"
      ],
      "metadata": {
        "colab": {
          "base_uri": "https://localhost:8080/",
          "height": 424
        },
        "id": "Mcw5gZ7uEVCl",
        "outputId": "c64e5a87-ebe9-412e-e808-dd94c26f20d8"
      },
      "execution_count": 31,
      "outputs": [
        {
          "output_type": "execute_result",
          "data": {
            "text/plain": [
              "        actual         pred\n",
              "96038     1100  4108.040790\n",
              "112561    3600  3691.770968\n",
              "272059   34000  8858.300151\n",
              "305760    8000  4222.919396\n",
              "186311    3000  5041.561150\n",
              "...        ...          ...\n",
              "51997     2327  4431.391240\n",
              "221206    4990  3872.952182\n",
              "138666    5980  4032.138853\n",
              "95627     2500  4670.070054\n",
              "174149    4000  9494.565515\n",
              "\n",
              "[63429 rows x 2 columns]"
            ],
            "text/html": [
              "\n",
              "  <div id=\"df-9fe271d9-5f01-4b60-9004-3109d7490964\">\n",
              "    <div class=\"colab-df-container\">\n",
              "      <div>\n",
              "<style scoped>\n",
              "    .dataframe tbody tr th:only-of-type {\n",
              "        vertical-align: middle;\n",
              "    }\n",
              "\n",
              "    .dataframe tbody tr th {\n",
              "        vertical-align: top;\n",
              "    }\n",
              "\n",
              "    .dataframe thead th {\n",
              "        text-align: right;\n",
              "    }\n",
              "</style>\n",
              "<table border=\"1\" class=\"dataframe\">\n",
              "  <thead>\n",
              "    <tr style=\"text-align: right;\">\n",
              "      <th></th>\n",
              "      <th>actual</th>\n",
              "      <th>pred</th>\n",
              "    </tr>\n",
              "  </thead>\n",
              "  <tbody>\n",
              "    <tr>\n",
              "      <th>96038</th>\n",
              "      <td>1100</td>\n",
              "      <td>4108.040790</td>\n",
              "    </tr>\n",
              "    <tr>\n",
              "      <th>112561</th>\n",
              "      <td>3600</td>\n",
              "      <td>3691.770968</td>\n",
              "    </tr>\n",
              "    <tr>\n",
              "      <th>272059</th>\n",
              "      <td>34000</td>\n",
              "      <td>8858.300151</td>\n",
              "    </tr>\n",
              "    <tr>\n",
              "      <th>305760</th>\n",
              "      <td>8000</td>\n",
              "      <td>4222.919396</td>\n",
              "    </tr>\n",
              "    <tr>\n",
              "      <th>186311</th>\n",
              "      <td>3000</td>\n",
              "      <td>5041.561150</td>\n",
              "    </tr>\n",
              "    <tr>\n",
              "      <th>...</th>\n",
              "      <td>...</td>\n",
              "      <td>...</td>\n",
              "    </tr>\n",
              "    <tr>\n",
              "      <th>51997</th>\n",
              "      <td>2327</td>\n",
              "      <td>4431.391240</td>\n",
              "    </tr>\n",
              "    <tr>\n",
              "      <th>221206</th>\n",
              "      <td>4990</td>\n",
              "      <td>3872.952182</td>\n",
              "    </tr>\n",
              "    <tr>\n",
              "      <th>138666</th>\n",
              "      <td>5980</td>\n",
              "      <td>4032.138853</td>\n",
              "    </tr>\n",
              "    <tr>\n",
              "      <th>95627</th>\n",
              "      <td>2500</td>\n",
              "      <td>4670.070054</td>\n",
              "    </tr>\n",
              "    <tr>\n",
              "      <th>174149</th>\n",
              "      <td>4000</td>\n",
              "      <td>9494.565515</td>\n",
              "    </tr>\n",
              "  </tbody>\n",
              "</table>\n",
              "<p>63429 rows × 2 columns</p>\n",
              "</div>\n",
              "      <button class=\"colab-df-convert\" onclick=\"convertToInteractive('df-9fe271d9-5f01-4b60-9004-3109d7490964')\"\n",
              "              title=\"Convert this dataframe to an interactive table.\"\n",
              "              style=\"display:none;\">\n",
              "        \n",
              "  <svg xmlns=\"http://www.w3.org/2000/svg\" height=\"24px\"viewBox=\"0 0 24 24\"\n",
              "       width=\"24px\">\n",
              "    <path d=\"M0 0h24v24H0V0z\" fill=\"none\"/>\n",
              "    <path d=\"M18.56 5.44l.94 2.06.94-2.06 2.06-.94-2.06-.94-.94-2.06-.94 2.06-2.06.94zm-11 1L8.5 8.5l.94-2.06 2.06-.94-2.06-.94L8.5 2.5l-.94 2.06-2.06.94zm10 10l.94 2.06.94-2.06 2.06-.94-2.06-.94-.94-2.06-.94 2.06-2.06.94z\"/><path d=\"M17.41 7.96l-1.37-1.37c-.4-.4-.92-.59-1.43-.59-.52 0-1.04.2-1.43.59L10.3 9.45l-7.72 7.72c-.78.78-.78 2.05 0 2.83L4 21.41c.39.39.9.59 1.41.59.51 0 1.02-.2 1.41-.59l7.78-7.78 2.81-2.81c.8-.78.8-2.07 0-2.86zM5.41 20L4 18.59l7.72-7.72 1.47 1.35L5.41 20z\"/>\n",
              "  </svg>\n",
              "      </button>\n",
              "      \n",
              "  <style>\n",
              "    .colab-df-container {\n",
              "      display:flex;\n",
              "      flex-wrap:wrap;\n",
              "      gap: 12px;\n",
              "    }\n",
              "\n",
              "    .colab-df-convert {\n",
              "      background-color: #E8F0FE;\n",
              "      border: none;\n",
              "      border-radius: 50%;\n",
              "      cursor: pointer;\n",
              "      display: none;\n",
              "      fill: #1967D2;\n",
              "      height: 32px;\n",
              "      padding: 0 0 0 0;\n",
              "      width: 32px;\n",
              "    }\n",
              "\n",
              "    .colab-df-convert:hover {\n",
              "      background-color: #E2EBFA;\n",
              "      box-shadow: 0px 1px 2px rgba(60, 64, 67, 0.3), 0px 1px 3px 1px rgba(60, 64, 67, 0.15);\n",
              "      fill: #174EA6;\n",
              "    }\n",
              "\n",
              "    [theme=dark] .colab-df-convert {\n",
              "      background-color: #3B4455;\n",
              "      fill: #D2E3FC;\n",
              "    }\n",
              "\n",
              "    [theme=dark] .colab-df-convert:hover {\n",
              "      background-color: #434B5C;\n",
              "      box-shadow: 0px 1px 3px 1px rgba(0, 0, 0, 0.15);\n",
              "      filter: drop-shadow(0px 1px 2px rgba(0, 0, 0, 0.3));\n",
              "      fill: #FFFFFF;\n",
              "    }\n",
              "  </style>\n",
              "\n",
              "      <script>\n",
              "        const buttonEl =\n",
              "          document.querySelector('#df-9fe271d9-5f01-4b60-9004-3109d7490964 button.colab-df-convert');\n",
              "        buttonEl.style.display =\n",
              "          google.colab.kernel.accessAllowed ? 'block' : 'none';\n",
              "\n",
              "        async function convertToInteractive(key) {\n",
              "          const element = document.querySelector('#df-9fe271d9-5f01-4b60-9004-3109d7490964');\n",
              "          const dataTable =\n",
              "            await google.colab.kernel.invokeFunction('convertToInteractive',\n",
              "                                                     [key], {});\n",
              "          if (!dataTable) return;\n",
              "\n",
              "          const docLinkHtml = 'Like what you see? Visit the ' +\n",
              "            '<a target=\"_blank\" href=https://colab.research.google.com/notebooks/data_table.ipynb>data table notebook</a>'\n",
              "            + ' to learn more about interactive tables.';\n",
              "          element.innerHTML = '';\n",
              "          dataTable['output_type'] = 'display_data';\n",
              "          await google.colab.output.renderOutput(dataTable, element);\n",
              "          const docLink = document.createElement('div');\n",
              "          docLink.innerHTML = docLinkHtml;\n",
              "          element.appendChild(docLink);\n",
              "        }\n",
              "      </script>\n",
              "    </div>\n",
              "  </div>\n",
              "  "
            ]
          },
          "metadata": {},
          "execution_count": 31
        }
      ]
    },
    {
      "cell_type": "code",
      "source": [
        "# 산점도\n",
        "plt.figure(figsize=(20, 9))\n",
        "sns.scatterplot(x = 'actual', y= 'pred', data = comparison)\n",
        "plt.show()"
      ],
      "metadata": {
        "colab": {
          "base_uri": "https://localhost:8080/",
          "height": 551
        },
        "id": "zV_AfENPEbsh",
        "outputId": "5f854b5f-7f02-4f26-81b3-6f1e892cbce6"
      },
      "execution_count": 32,
      "outputs": [
        {
          "output_type": "display_data",
          "data": {
            "text/plain": [
              "<Figure size 1440x648 with 1 Axes>"
            ],
            "image/png": "[encoded data removed]"
          },
          "metadata": {
            "needs_background": "light"
          }
        }
      ]
    },
    {
      "cell_type": "code",
      "source": [
        "plt.figure(figsize=(20, 9))\n",
        "sns.regplot(x = 'actual', y= 'pred', data = comparison)\n",
        "plt.show()"
      ],
      "metadata": {
        "colab": {
          "base_uri": "https://localhost:8080/",
          "height": 551
        },
        "id": "iYnBv0WkEl84",
        "outputId": "551206c9-9294-4fd6-be2d-dc0fab3a1577"
      },
      "execution_count": 33,
      "outputs": [
        {
          "output_type": "display_data",
          "data": {
            "text/plain": [
              "<Figure size 1440x648 with 1 Axes>"
            ],
            "image/png": "[encoded data removed]"
          },
          "metadata": {
            "needs_background": "light"
          }
        }
      ]
    },
    {
      "cell_type": "markdown",
      "source": [
        "결정계수\n",
        "- mean_squared_error()"
      ],
      "metadata": {
        "id": "HI-NmoiNFBgD"
      }
    },
    {
      "cell_type": "code",
      "source": [
        "from sklearn.metrics import mean_squared_error"
      ],
      "metadata": {
        "id": "y67hQmm3E3i5"
      },
      "execution_count": 34,
      "outputs": []
    },
    {
      "cell_type": "code",
      "source": [
        "mean_squared_error(y_test, pred)"
      ],
      "metadata": {
        "colab": {
          "base_uri": "https://localhost:8080/"
        },
        "id": "XEw0bm5EFJH2",
        "outputId": "fd66c331-4c2e-41e7-fe21-efd1e8177ee0"
      },
      "execution_count": 35,
      "outputs": [
        {
          "output_type": "execute_result",
          "data": {
            "text/plain": [
              "57401932.20211437"
            ]
          },
          "metadata": {},
          "execution_count": 35
        }
      ]
    },
    {
      "cell_type": "code",
      "source": [
        "# rmse\n",
        "mean_squared_error(y_test, pred) ** 0.5"
      ],
      "metadata": {
        "colab": {
          "base_uri": "https://localhost:8080/"
        },
        "id": "SIvaBq49FK_B",
        "outputId": "63ab3488-ac0c-4912-836f-4940615a453e"
      },
      "execution_count": 36,
      "outputs": [
        {
          "output_type": "execute_result",
          "data": {
            "text/plain": [
              "7576.406285443935"
            ]
          },
          "metadata": {},
          "execution_count": 36
        }
      ]
    },
    {
      "cell_type": "code",
      "source": [
        "# rmse #2\n",
        "mean_squared_error(y_test, pred, squared=False)"
      ],
      "metadata": {
        "colab": {
          "base_uri": "https://localhost:8080/"
        },
        "id": "0BGreqnQFM5g",
        "outputId": "9d46c6da-080b-4b5c-add3-46ac2596c0af"
      },
      "execution_count": 37,
      "outputs": [
        {
          "output_type": "execute_result",
          "data": {
            "text/plain": [
              "7576.406285443935"
            ]
          },
          "metadata": {},
          "execution_count": 37
        }
      ]
    },
    {
      "cell_type": "code",
      "source": [
        "model.score(X_train, y_train) # R²"
      ],
      "metadata": {
        "colab": {
          "base_uri": "https://localhost:8080/"
        },
        "id": "mscuph5oFSIF",
        "outputId": "23fd81e6-ba87-4586-db57-7848d871ed99"
      },
      "execution_count": 38,
      "outputs": [
        {
          "output_type": "execute_result",
          "data": {
            "text/plain": [
              "0.07522180044056881"
            ]
          },
          "metadata": {},
          "execution_count": 38
        }
      ]
    },
    {
      "cell_type": "markdown",
      "source": [
        "선형회귀"
      ],
      "metadata": {
        "id": "J0m5EFxdFVmq"
      }
    },
    {
      "cell_type": "code",
      "source": [
        "model.coef_"
      ],
      "metadata": {
        "colab": {
          "base_uri": "https://localhost:8080/"
        },
        "id": "6dSfQF24FUE4",
        "outputId": "e12190af-97aa-4900-8835-174dc62f65f4"
      },
      "execution_count": 39,
      "outputs": [
        {
          "output_type": "execute_result",
          "data": {
            "text/plain": [
              "array([-6.93786802e-01, -1.85525916e+01,  3.60357525e+02,  6.46984636e-04])"
            ]
          },
          "metadata": {},
          "execution_count": 39
        }
      ]
    },
    {
      "cell_type": "code",
      "source": [
        "model.coef_.shape"
      ],
      "metadata": {
        "colab": {
          "base_uri": "https://localhost:8080/"
        },
        "id": "l8Ei2AbYFYO-",
        "outputId": "9882c549-0163-46ac-8f41-8f5ff54554d8"
      },
      "execution_count": 40,
      "outputs": [
        {
          "output_type": "execute_result",
          "data": {
            "text/plain": [
              "(4,)"
            ]
          },
          "metadata": {},
          "execution_count": 40
        }
      ]
    },
    {
      "cell_type": "code",
      "source": [
        "pd.Series(model.coef_, index = X.columns)"
      ],
      "metadata": {
        "colab": {
          "base_uri": "https://localhost:8080/"
        },
        "id": "q_C_4GmrFaKH",
        "outputId": "c2ac14ca-941f-4fa3-e856-a9bfa858d959"
      },
      "execution_count": 41,
      "outputs": [
        {
          "output_type": "execute_result",
          "data": {
            "text/plain": [
              "시장/마트 번호     -0.693787\n",
              "품목 번호       -18.552592\n",
              "년도-월        360.357525\n",
              "자치구 코드        0.000647\n",
              "dtype: float64"
            ]
          },
          "metadata": {},
          "execution_count": 41
        }
      ]
    },
    {
      "cell_type": "code",
      "source": [
        "model.intercept_"
      ],
      "metadata": {
        "colab": {
          "base_uri": "https://localhost:8080/"
        },
        "id": "BI30N1ADFcdv",
        "outputId": "de712f79-809b-445f-ee70-8c1dcbb634f6"
      },
      "execution_count": 42,
      "outputs": [
        {
          "output_type": "execute_result",
          "data": {
            "text/plain": [
              "-718300.72138038"
            ]
          },
          "metadata": {},
          "execution_count": 42
        }
      ]
    },
    {
      "cell_type": "markdown",
      "source": [
        "모델 배포"
      ],
      "metadata": {
        "id": "Y_L2Rz-xFhYE"
      }
    },
    {
      "cell_type": "code",
      "source": [],
      "metadata": {
        "id": "J_dkGCDFFfmQ"
      },
      "execution_count": 42,
      "outputs": []
    }
  ]
}